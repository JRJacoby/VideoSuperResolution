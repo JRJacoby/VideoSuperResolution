{
 "cells": [
  {
   "cell_type": "code",
   "execution_count": 18,
   "metadata": {},
   "outputs": [],
   "source": [
    "import os\n",
    "import shutil\n",
    "import re\n",
    "import subprocess\n",
    "\n",
    "from IPython.core.debugger import set_trace"
   ]
  },
  {
   "cell_type": "code",
   "execution_count": 16,
   "metadata": {},
   "outputs": [],
   "source": [
    "# Given a complete filepath to a video, returns an integer of the number of frames in the video.\n",
    "def video_data(filename):\n",
    "    # Run FFmpeg to get information on the given video\n",
    "    output = subprocess.run(['ffmpeg', '-i', filename, '-map', '0:v:0', '-c', 'copy', '-f', 'null', '-'], capture_output = True, text = True)\n",
    "    # FFmpeg return a CompletedProcess data type. In order to process the information, change it to a string data type.\n",
    "    output = str(output)\n",
    "    set_trace()\n",
    "    # Use regular expression matching to extract video data\n",
    "    frame_text = re.findall('frame= *\\d+', output)[0] # Regular expression: \"frame=\" + (zero or more spaces or tabs) + (one or more digits)\n",
    "    resolution_text = re.findall(', \\d+x\\d+,', output)[0]\n",
    "    # Get the number that comes after 'frame ='\n",
    "    frame_num = frame_text.split(' ')[-1]\n",
    "    width = int(''.join(char for char in resolution_text.split('x')[0] if char.isdigit()))\n",
    "    height = int(''.join(char for char in resolution_text.split('x')[1] if char.isdigit()))\n",
    "    return (frame_num, width, height)"
   ]
  },
  {
   "cell_type": "code",
   "execution_count": null,
   "metadata": {},
   "outputs": [],
   "source": [
    "video_data(r'C:\\Users\\John\\PythonVenvs\\VideoSuperResolution\\Scripts\\Raw Data\\Raw, Half-Size, and PNGs\\2019 AERIAL _ Stock Footage\\2019 AERIAL _ Stock Footage_half_size.mp4')"
   ]
  },
  {
   "cell_type": "code",
   "execution_count": 7,
   "metadata": {},
   "outputs": [],
   "source": [
    "# Change the working directory to the folder where the downloaded, full-length videos are stored, each in their own individual folder\n",
    "os.chdir(r'Raw Data\\Raw, Half-Size, and PNGs')"
   ]
  },
  {
   "cell_type": "code",
   "execution_count": null,
   "metadata": {},
   "outputs": [],
   "source": [
    "for folder in os.listdir(os.getcwd()):\n",
    "    os.chdir(folder)\n",
    "    filename = list(filter(lambda x: x.endswith('_half_size.mp4'), os.listdir(os.getcwd())))[0] # Filename of the half-size video\n",
    "    num_frames, width, height = video_data(os.getcwd() + '\\\\' + filename)\n",
    "    \n",
    "    new_width = width - (width % 256)\n",
    "    new_height = height - (height % 256)\n",
    "    cropped_filename = filename[:-4] + '_cropped.mp4'\n",
    "    crop_command = '\\\"crop=' + str(new_width) + ':' + str(new_height) + ':' \\\n",
    "    + str((width % 265) / 2) + ':' + str((height % 265) / 2) + '\\\"'\n",
    "    \n",
    "    subprocess.run(['ffmpeg', '-i', filename, crop_command, cropped_filename])\n",
    "    \n",
    "    for x_pixel_index in list(range(0, new_width, 256)):\n",
    "        for y_pixel_index in list(range(0, new_height, 256)):\n",
    "            crop_command = '\\\"crop=' + ':'.join(['256', '256', str(x_pixel_index), str(y_pixel_index)]) + '\\\"'\n",
    "            patch_filename = cropped_filename[:-4] + str(x_pixel_index / 256) + str(y_pixel_index / 256) + '.mp4'\n",
    "            subprocess.run(['ffmpeg', '-i', cropped_filename, crop_command, patch_filename])\n",
    "            os.mkdir(patch_filename[:-4])\n",
    "            shutil.move(patch_filename, patch_filename[:-4] + '\\\\' + patch_filename)\n",
    "    \n",
    "    os.chdir('..')\n",
    "    "
   ]
  },
  {
   "cell_type": "code",
   "execution_count": 32,
   "metadata": {},
   "outputs": [
    {
     "ename": "NotADirectoryError",
     "evalue": "[WinError 267] The directory name is invalid: 'organize.bat'",
     "output_type": "error",
     "traceback": [
      "\u001b[1;31m---------------------------------------------------------------------------\u001b[0m",
      "\u001b[1;31mNotADirectoryError\u001b[0m                        Traceback (most recent call last)",
      "\u001b[1;32m<ipython-input-32-c8fc676476fc>\u001b[0m in \u001b[0;36m<module>\u001b[1;34m\u001b[0m\n\u001b[0;32m      5\u001b[0m \u001b[1;31m# os.getcwd() returns a string of the current directory (the one set up above). os.listdir() then list every file in that directory.\u001b[0m\u001b[1;33m\u001b[0m\u001b[1;33m\u001b[0m\u001b[1;33m\u001b[0m\u001b[0m\n\u001b[0;32m      6\u001b[0m \u001b[1;32mfor\u001b[0m \u001b[0mfolder\u001b[0m \u001b[1;32min\u001b[0m \u001b[0mos\u001b[0m\u001b[1;33m.\u001b[0m\u001b[0mlistdir\u001b[0m\u001b[1;33m(\u001b[0m\u001b[0mos\u001b[0m\u001b[1;33m.\u001b[0m\u001b[0mgetcwd\u001b[0m\u001b[1;33m(\u001b[0m\u001b[1;33m)\u001b[0m\u001b[1;33m)\u001b[0m\u001b[1;33m:\u001b[0m\u001b[1;33m\u001b[0m\u001b[1;33m\u001b[0m\u001b[0m\n\u001b[1;32m----> 7\u001b[1;33m     \u001b[0mos\u001b[0m\u001b[1;33m.\u001b[0m\u001b[0mchdir\u001b[0m\u001b[1;33m(\u001b[0m\u001b[0mfolder\u001b[0m\u001b[1;33m)\u001b[0m\u001b[1;33m\u001b[0m\u001b[1;33m\u001b[0m\u001b[0m\n\u001b[0m\u001b[0;32m      8\u001b[0m     \u001b[0mfilename\u001b[0m \u001b[1;33m=\u001b[0m \u001b[0mlist\u001b[0m\u001b[1;33m(\u001b[0m\u001b[0mfilter\u001b[0m\u001b[1;33m(\u001b[0m\u001b[1;32mlambda\u001b[0m \u001b[0mx\u001b[0m\u001b[1;33m:\u001b[0m \u001b[0mx\u001b[0m\u001b[1;33m.\u001b[0m\u001b[0mendswith\u001b[0m\u001b[1;33m(\u001b[0m\u001b[1;34m'_half_size.mp4'\u001b[0m\u001b[1;33m)\u001b[0m\u001b[1;33m,\u001b[0m \u001b[0mos\u001b[0m\u001b[1;33m.\u001b[0m\u001b[0mlistdir\u001b[0m\u001b[1;33m(\u001b[0m\u001b[0mos\u001b[0m\u001b[1;33m.\u001b[0m\u001b[0mgetcwd\u001b[0m\u001b[1;33m(\u001b[0m\u001b[1;33m)\u001b[0m\u001b[1;33m)\u001b[0m\u001b[1;33m)\u001b[0m\u001b[1;33m)\u001b[0m\u001b[1;33m[\u001b[0m\u001b[1;36m0\u001b[0m\u001b[1;33m]\u001b[0m \u001b[1;31m# Filename of the half-size video\u001b[0m\u001b[1;33m\u001b[0m\u001b[1;33m\u001b[0m\u001b[0m\n\u001b[0;32m      9\u001b[0m     \u001b[0mnum_frames\u001b[0m \u001b[1;33m=\u001b[0m \u001b[0mframe_count\u001b[0m\u001b[1;33m(\u001b[0m\u001b[0mos\u001b[0m\u001b[1;33m.\u001b[0m\u001b[0mgetcwd\u001b[0m\u001b[1;33m(\u001b[0m\u001b[1;33m)\u001b[0m \u001b[1;33m+\u001b[0m \u001b[1;34m'\\\\'\u001b[0m \u001b[1;33m+\u001b[0m \u001b[0mfilename\u001b[0m\u001b[1;33m)\u001b[0m\u001b[1;33m\u001b[0m\u001b[1;33m\u001b[0m\u001b[0m\n",
      "\u001b[1;31mNotADirectoryError\u001b[0m: [WinError 267] The directory name is invalid: 'organize.bat'"
     ]
    }
   ],
   "source": [
    "# For each file in the directory, split the full-length videos into individual .png images\n",
    "# os.getcwd() returns a string of the current directory (the one set up above). os.listdir() then list every file in that directory.\n",
    "for folder in os.listdir(os.getcwd()):\n",
    "    os.chdir(folder)\n",
    "    filename = list(filter(lambda x: x.endswith('_half_size.mp4'), os.listdir(os.getcwd())))[0] # Filename of the half-size video\n",
    "    num_frames = frame_count(os.getcwd() + '\\\\' + filename)\n",
    "    try:\n",
    "        subprocess.run(['ffmpeg', '-i', filename, '-vf', 'select=\\'between(n\\\\,0\\\\,' + num_frames + ')\\'', '-vsync', '0', '-start_number', '0', 'frame%d.png'], check=True)\n",
    "    except:\n",
    "        set_trace()\n",
    "    os.chdir('..') # Back up to the directory with the list of video folders\n",
    "    "
   ]
  },
  {
   "cell_type": "code",
   "execution_count": 14,
   "metadata": {},
   "outputs": [],
   "source": [
    "# Halve the raw video sizes to get the HR frames \n",
    "os.chdir(r'Raw Data\\Just Raw Videos')\n",
    "\n",
    "for folder in os.listdir(os.getcwd()):\n",
    "    os.chdir(folder)\n",
    "    filename = os.listdir(os.getcwd())[0] # Filename of the only file in the folder. Each folder should have exactly one video file\n",
    "    # ffmpeg = subprocess.run(['ffmpeg', '-i', \"\\\"\" + filename + \"\\\"\", '-vf', '\"scale=iw/2:ih/2\"', \"\\\"\" + filename[:-4] + '_half_size.mp4' + \"\\\"\"])\n",
    "    ffmpeg = subprocess.run(['ffmpeg', '-y', '-i', filename, '-vf', 'scale=iw/2:ih/2', filename[:-4] + '_half_size.mp4'])\n",
    "    os.chdir('..') # Back up to the directory with the list of video folders\n"
   ]
  },
  {
   "cell_type": "code",
   "execution_count": 30,
   "metadata": {},
   "outputs": [
    {
     "name": "stdout",
     "output_type": "stream",
     "text": [
      "C:\\Users\\John\\pytorch_test\n"
     ]
    }
   ],
   "source": [
    "os.chdir('..')\n",
    "print(os.getcwd())"
   ]
  }
 ],
 "metadata": {
  "kernelspec": {
   "display_name": "Python 3",
   "language": "python",
   "name": "python3"
  },
  "language_info": {
   "codemirror_mode": {
    "name": "ipython",
    "version": 3
   },
   "file_extension": ".py",
   "mimetype": "text/x-python",
   "name": "python",
   "nbconvert_exporter": "python",
   "pygments_lexer": "ipython3",
   "version": "3.8.6rc1"
  }
 },
 "nbformat": 4,
 "nbformat_minor": 4
}
