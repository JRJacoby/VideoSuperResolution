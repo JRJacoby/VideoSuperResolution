{
 "cells": [
  {
   "cell_type": "code",
   "execution_count": 1,
   "metadata": {},
   "outputs": [],
   "source": [
    "import os\n",
    "import shutil\n",
    "import re\n",
    "import subprocess\n",
    "import math\n",
    "import h5py\n",
    "import matplotlib.pyplot as plt\n",
    "import numpy as np\n",
    "\n",
    "from skimage import io\n",
    "from skimage.filters import gaussian\n",
    "from IPython.core.debugger import set_trace\n",
    "from importlib import reload"
   ]
  },
  {
   "cell_type": "code",
   "execution_count": null,
   "metadata": {},
   "outputs": [],
   "source": [
    "# Given a complete filepath to a video, returns an integer of the number of frames in the video.\n",
    "def video_data(filename):\n",
    "    # Run FFmpeg to get information on the given video\n",
    "    output = subprocess.run(['ffmpeg', '-i', filename, '-map', '0:v:0', '-c', 'copy', '-f', 'null', '-'], capture_output = True, text = True, check=True)\n",
    "    # FFmpeg return a CompletedProcess data type. In order to process the information, change it to a string data type.\n",
    "    output = str(output)\n",
    "    # Use regular expression matching to extract video data\n",
    "    frame_text = re.findall('frame= *\\d+', output)[0] # Regular expression: \"frame=\" + (zero or more spaces or tabs) + (one or more digits)\n",
    "    resolution_text = re.findall(', \\d+x\\d+', output)[0]\n",
    "    # Get the number that comes after 'frame ='\n",
    "    frame_num = ''.join(char for char in frame_text if char.isdigit())\n",
    "    width = int(''.join(char for char in resolution_text.split('x')[0] if char.isdigit()))\n",
    "    height = int(''.join(char for char in resolution_text.split('x')[1] if char.isdigit()))\n",
    "    return (frame_num, width, height)"
   ]
  },
  {
   "cell_type": "code",
   "execution_count": null,
   "metadata": {},
   "outputs": [],
   "source": [
    "#video_data(r'C:\\Users\\John\\PythonVenvs\\VideoSuperResolution\\Scripts\\Raw Data\\Raw, Half-Size, and PNGs\\2019 AERIAL _ Stock Footage\\2019 AERIAL _ Stock Footage_half_size.mp4')"
   ]
  },
  {
   "cell_type": "code",
   "execution_count": null,
   "metadata": {},
   "outputs": [],
   "source": [
    "# Crop videos to 256 and organize into folders\n",
    "\n",
    "for folder in os.listdir(os.getcwd()):\n",
    "    os.chdir(folder)\n",
    "    filename = list(filter(lambda x: x.endswith('_half_size.mp4'), os.listdir(os.getcwd())))[0] # Filename of the half-size video\n",
    "    num_frames, width, height = video_data(os.getcwd() + '\\\\' + filename)\n",
    "\n",
    "    new_width = width - (width % 256)\n",
    "    new_height = height - (height % 256)\n",
    "    cropped_filename = filename[:-4] + '_cropped.mp4'\n",
    "    crop_command = 'crop=' + str(new_width) + ':' + str(new_height) + ':' \\\n",
    "    + str(math.floor((width % 265) / 2)) + ':' + str(math.floor((height % 265) / 2))\n",
    "    subprocess.run(['ffmpeg', '-y', '-i', filename, '-filter:v', crop_command, cropped_filename])\n",
    "    for x_pixel_index in list(range(0, new_width, 256)):\n",
    "        for y_pixel_index in list(range(0, new_height, 256)):\n",
    "            crop_command = 'crop=' + ':'.join(['256', '256', str(x_pixel_index), str(y_pixel_index)]) + ''\n",
    "            patch_filename = cropped_filename[:-4] + str(int(x_pixel_index / 256)) + str(int(y_pixel_index / 256)) + '.mp4'\n",
    "            subprocess.run(['ffmpeg', '-y', '-i', cropped_filename, '-filter:v', crop_command, patch_filename])\n",
    "            if os.path.exists(patch_filename[:-4]):\n",
    "                shutil.rmtree(patch_filename[:-4])\n",
    "            os.mkdir(patch_filename[:-4])\n",
    "            shutil.move(patch_filename, patch_filename[:-4] + '\\\\' + patch_filename)\n",
    "\n",
    "    os.chdir('..')   "
   ]
  },
  {
   "cell_type": "code",
   "execution_count": null,
   "metadata": {},
   "outputs": [],
   "source": [
    "os.chdir(r'C:\\Users\\John\\PythonVenvs\\VideoSuperResolution\\Scripts\\Raw Data\\Raw, Half-Size, and PNGs')\n",
    "print(os.getcwd())\n",
    "\n",
    "# For each file in the directory, split the full-length videos into individual .png images\n",
    "# os.getcwd() returns a string of the current directory (the one set up above). os.listdir() then list every file in that directory.\n",
    "for folder in [x for x in os.listdir(os.getcwd()) if not x.endswith('.bat')][4:]:\n",
    "    os.chdir(folder)\n",
    "    for patch_folder in (x for x in os.listdir(os.getcwd()) if not x.endswith('.mp4')):\n",
    "        os.chdir(patch_folder)\n",
    "        filename = os.listdir(os.getcwd())[0] # Filename of the patch of video\n",
    "        num_frames, a, b = video_data(os.getcwd() + '\\\\' + filename)\n",
    "        subprocess.run(['ffmpeg', '-i', filename, '-vf', 'select=\\'between(n\\\\,0\\\\,' + num_frames + ')\\'', '-vsync', '0', '-start_number', '0', 'frame%d.png'], check=True)\n",
    "        os.chdir('..') # Back up to the directory with the list of patch folders\n",
    "    \n",
    "    os.chdir('..') # Back up to the main video directory\n",
    "    "
   ]
  },
  {
   "cell_type": "code",
   "execution_count": null,
   "metadata": {},
   "outputs": [],
   "source": [
    "# Halve the raw video sizes to get the HR frames \n",
    "os.chdir(r'Raw Data\\Just Raw Videos')\n",
    "\n",
    "for folder in os.listdir(os.getcwd()):\n",
    "    os.chdir(folder)\n",
    "    filename = os.listdir(os.getcwd())[0] # Filename of the only file in the folder. Each folder should have exactly one video file\n",
    "    # ffmpeg = subprocess.run(['ffmpeg', '-i', \"\\\"\" + filename + \"\\\"\", '-vf', '\"scale=iw/2:ih/2\"', \"\\\"\" + filename[:-4] + '_half_size.mp4' + \"\\\"\"])\n",
    "    ffmpeg = subprocess.run(['ffmpeg', '-y', '-i', filename, '-vf', 'scale=iw/2:ih/2', filename[:-4] + '_half_size.mp4'])\n",
    "    os.chdir('..') # Back up to the directory with the list of video folders\n"
   ]
  },
  {
   "cell_type": "code",
   "execution_count": null,
   "metadata": {},
   "outputs": [],
   "source": [
    "# lighten frames\n",
    "\n",
    "directory = r'C:\\Users\\John\\PythonVenvs\\VideoSuperResolution\\Scripts\\Raw Data\\Lightened Frames'\n",
    "video_folders = os.listdir(directory)\n",
    "\n",
    "i = 0\n",
    "for video_folder in video_folders:\n",
    "    patch_folders = os.listdir(directory + '\\\\' + video_folder)\n",
    "    patch_folders = [patch_folder for patch_folder in patch_folders if '.' not in patch_folder]\n",
    "\n",
    "    for patch_folder in patch_folders:\n",
    "        patch_folder_path = directory + '\\\\' + video_folder + '\\\\' + patch_folder + '\\\\'\n",
    "        files = os.listdir(patch_folder_path)\n",
    "        frames = list(filter(lambda x: x.endswith('.png'), files))\n",
    "        frames = sorted(frames, key=lambda string: int(''.join(char for char in string if char.isdigit())))\n",
    "        frames = [patch_folder_path + frame for frame in frames]\n",
    "        \n",
    "        print(i)\n",
    "        i += 1\n",
    "\n",
    "        for frame in frames:\n",
    "                image = io.imread(frame).astype('int16')\n",
    "                image = (image + 30).clip(0, 255)\n",
    "                image = image.astype('uint8')\n",
    "                os.remove(frame)\n",
    "                io.imsave(frame, image, check_contrast=False)"
   ]
  },
  {
   "cell_type": "code",
   "execution_count": null,
   "metadata": {},
   "outputs": [],
   "source": [
    "# Gaussian blur and select every 4th pixel in each dimension\n",
    "# (every 16th pixel overall, final video is one quarter length in each dimension)\n",
    "\n",
    "directory = r'C:\\Users\\John\\PythonVenvs\\VideoSuperResolution\\Scripts\\Raw Data\\LowResFrames'\n",
    "video_folders = os.listdir(directory)\n",
    "\n",
    "i = 0\n",
    "for video_folder in video_folders:\n",
    "    patch_folders = os.listdir(directory + '\\\\' + video_folder)\n",
    "    patch_folders = [patch_folder for patch_folder in patch_folders if '.' not in patch_folder]\n",
    "\n",
    "    for patch_folder in patch_folders:\n",
    "        patch_folder_path = directory + '\\\\' + video_folder + '\\\\' + patch_folder + '\\\\'\n",
    "        files = os.listdir(patch_folder_path)\n",
    "        frames = list(filter(lambda x: x.endswith('.png'), files))\n",
    "        frames = sorted(frames, key=lambda string: int(''.join(char for char in string if char.isdigit())))\n",
    "        frames = [patch_folder_path + frame for frame in frames]\n",
    "        \n",
    "        print(i)\n",
    "        i += 1\n",
    "\n",
    "        for frame in frames:\n",
    "                image = io.imread(frame)\n",
    "                image = gaussian(image, 1.5, preserve_range=True)\n",
    "                image = image.clip(0, 255)\n",
    "                image = image[::4, ::4, :]\n",
    "                image = image.astype('uint8')\n",
    "                os.remove(frame)\n",
    "                io.imsave(frame, image, check_contrast=False)"
   ]
  },
  {
   "cell_type": "code",
   "execution_count": 4,
   "metadata": {},
   "outputs": [],
   "source": [
    "video_hdf5.close()"
   ]
  },
  {
   "cell_type": "code",
   "execution_count": null,
   "metadata": {},
   "outputs": [],
   "source": [
    "for video_folder in video_folders:\n",
    "    patch_folders = os.listdir(directory + '\\\\' + video_folder)\n",
    "    patch_folders = [patch_folder for patch_folder in patch_folders if '.' not in patch_folder]\n",
    "\n",
    "    for patch_folder in patch_folders:\n",
    "        patch_folder_path = directory + '\\\\' + video_folder + '\\\\' + patch_folder + '\\\\'\n",
    "        files = os.listdir(patch_folder_path)\n",
    "        frames = list(filter(lambda x: x.endswith('.png'), files))\n",
    "        frames = sorted(frames, key=lambda string: int(''.join(char for char in string if char.isdigit())))\n",
    "        frames = [patch_folder_path + frame for frame in frames]\n",
    "\n",
    "        num_frames = len(frames)\n",
    "        for i in list(range(0, num_frames, sequence_length))[:-1]:\n",
    "            samples.append(frames[i : i + sequence_length])"
   ]
  },
  {
   "cell_type": "code",
   "execution_count": 7,
   "metadata": {},
   "outputs": [
    {
     "ename": "NameError",
     "evalue": "name 'vid' is not defined",
     "output_type": "error",
     "traceback": [
      "\u001b[1;31m---------------------------------------------------------------------------\u001b[0m",
      "\u001b[1;31mNameError\u001b[0m                                 Traceback (most recent call last)",
      "\u001b[1;32m<ipython-input-7-797634727cab>\u001b[0m in \u001b[0;36m<module>\u001b[1;34m\u001b[0m\n\u001b[1;32m----> 1\u001b[1;33m \u001b[0mreload\u001b[0m\u001b[1;33m(\u001b[0m\u001b[0mvid\u001b[0m\u001b[1;33m)\u001b[0m\u001b[1;33m\u001b[0m\u001b[1;33m\u001b[0m\u001b[0m\n\u001b[0m",
      "\u001b[1;31mNameError\u001b[0m: name 'vid' is not defined"
     ]
    }
   ],
   "source": [
    "reload(vid)"
   ]
  }
 ],
 "metadata": {
  "kernelspec": {
   "display_name": "Python 3",
   "language": "python",
   "name": "python3"
  },
  "language_info": {
   "codemirror_mode": {
    "name": "ipython",
    "version": 3
   },
   "file_extension": ".py",
   "mimetype": "text/x-python",
   "name": "python",
   "nbconvert_exporter": "python",
   "pygments_lexer": "ipython3",
   "version": "3.8.6rc1"
  }
 },
 "nbformat": 4,
 "nbformat_minor": 4
}
