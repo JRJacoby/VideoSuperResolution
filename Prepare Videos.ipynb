{
 "cells": [
  {
   "cell_type": "code",
   "execution_count": 7,
   "metadata": {},
   "outputs": [],
   "source": [
    "import os\n",
    "import shutil\n",
    "import re\n",
    "import subprocess\n",
    "import math\n",
    "\n",
    "from IPython.core.debugger import set_trace\n",
    "from importlib import reload"
   ]
  },
  {
   "cell_type": "code",
   "execution_count": 30,
   "metadata": {},
   "outputs": [],
   "source": [
    "# Given a complete filepath to a video, returns an integer of the number of frames in the video.\n",
    "def video_data(filename):\n",
    "    # Run FFmpeg to get information on the given video\n",
    "    output = subprocess.run(['ffmpeg', '-i', filename, '-map', '0:v:0', '-c', 'copy', '-f', 'null', '-'], capture_output = True, text = True, check=True)\n",
    "    # FFmpeg return a CompletedProcess data type. In order to process the information, change it to a string data type.\n",
    "    output = str(output)\n",
    "    # Use regular expression matching to extract video data\n",
    "    frame_text = re.findall('frame= *\\d+', output)[0] # Regular expression: \"frame=\" + (zero or more spaces or tabs) + (one or more digits)\n",
    "    resolution_text = re.findall(', \\d+x\\d+', output)[0]\n",
    "    # Get the number that comes after 'frame ='\n",
    "    frame_num = ''.join(char for char in frame_text if char.isdigit())\n",
    "    width = int(''.join(char for char in resolution_text.split('x')[0] if char.isdigit()))\n",
    "    height = int(''.join(char for char in resolution_text.split('x')[1] if char.isdigit()))\n",
    "    return (frame_num, width, height)"
   ]
  },
  {
   "cell_type": "code",
   "execution_count": null,
   "metadata": {},
   "outputs": [],
   "source": [
    "#video_data(r'C:\\Users\\John\\PythonVenvs\\VideoSuperResolution\\Scripts\\Raw Data\\Raw, Half-Size, and PNGs\\2019 AERIAL _ Stock Footage\\2019 AERIAL _ Stock Footage_half_size.mp4')"
   ]
  },
  {
   "cell_type": "code",
   "execution_count": null,
   "metadata": {},
   "outputs": [],
   "source": [
    "for folder in os.listdir(os.getcwd()):\n",
    "    os.chdir(folder)\n",
    "    filename = list(filter(lambda x: x.endswith('_half_size.mp4'), os.listdir(os.getcwd())))[0] # Filename of the half-size video\n",
    "    num_frames, width, height = video_data(os.getcwd() + '\\\\' + filename)\n",
    "\n",
    "    new_width = width - (width % 256)\n",
    "    new_height = height - (height % 256)\n",
    "    cropped_filename = filename[:-4] + '_cropped.mp4'\n",
    "    crop_command = 'crop=' + str(new_width) + ':' + str(new_height) + ':' \\\n",
    "    + str(math.floor((width % 265) / 2)) + ':' + str(math.floor((height % 265) / 2))\n",
    "    subprocess.run(['ffmpeg', '-y', '-i', filename, '-filter:v', crop_command, cropped_filename])\n",
    "    for x_pixel_index in list(range(0, new_width, 256)):\n",
    "        for y_pixel_index in list(range(0, new_height, 256)):\n",
    "            crop_command = 'crop=' + ':'.join(['256', '256', str(x_pixel_index), str(y_pixel_index)]) + ''\n",
    "            patch_filename = cropped_filename[:-4] + str(int(x_pixel_index / 256)) + str(int(y_pixel_index / 256)) + '.mp4'\n",
    "            subprocess.run(['ffmpeg', '-y', '-i', cropped_filename, '-filter:v', crop_command, patch_filename])\n",
    "            if os.path.exists(patch_filename[:-4]):\n",
    "                shutil.rmtree(patch_filename[:-4])\n",
    "            os.mkdir(patch_filename[:-4])\n",
    "            shutil.move(patch_filename, patch_filename[:-4] + '\\\\' + patch_filename)\n",
    "\n",
    "    os.chdir('..')   "
   ]
  },
  {
   "cell_type": "code",
   "execution_count": 31,
   "metadata": {},
   "outputs": [
    {
     "name": "stdout",
     "output_type": "stream",
     "text": [
      "C:\\Users\\John\\PythonVenvs\\VideoSuperResolution\\Scripts\\Raw Data\\Raw, Half-Size, and PNGs\n"
     ]
    },
    {
     "ename": "CalledProcessError",
     "evalue": "Command '['ffmpeg', '-i', 'C:\\\\Users\\\\John\\\\PythonVenvs\\\\VideoSuperResolution\\\\Scripts\\\\Raw Data\\\\Raw, Half-Size, and PNGs\\\\Family Building Sand Castle Together Stock Footage\\\\Family Building Sand Castle Together Stock Footage_half_size_cropped00\\\\Family Building Sand Castle Together Stock Footage_half_size_cropped00.mp4', '-map', '0:v:0', '-c', 'copy', '-f', 'null', '-']' returned non-zero exit status 1.",
     "output_type": "error",
     "traceback": [
      "\u001b[1;31m---------------------------------------------------------------------------\u001b[0m",
      "\u001b[1;31mCalledProcessError\u001b[0m                        Traceback (most recent call last)",
      "\u001b[1;32m<ipython-input-31-7d262c9d57be>\u001b[0m in \u001b[0;36m<module>\u001b[1;34m\u001b[0m\n\u001b[0;32m      9\u001b[0m         \u001b[0mos\u001b[0m\u001b[1;33m.\u001b[0m\u001b[0mchdir\u001b[0m\u001b[1;33m(\u001b[0m\u001b[0mpatch_folder\u001b[0m\u001b[1;33m)\u001b[0m\u001b[1;33m\u001b[0m\u001b[1;33m\u001b[0m\u001b[0m\n\u001b[0;32m     10\u001b[0m         \u001b[0mfilename\u001b[0m \u001b[1;33m=\u001b[0m \u001b[0mos\u001b[0m\u001b[1;33m.\u001b[0m\u001b[0mlistdir\u001b[0m\u001b[1;33m(\u001b[0m\u001b[0mos\u001b[0m\u001b[1;33m.\u001b[0m\u001b[0mgetcwd\u001b[0m\u001b[1;33m(\u001b[0m\u001b[1;33m)\u001b[0m\u001b[1;33m)\u001b[0m\u001b[1;33m[\u001b[0m\u001b[1;36m0\u001b[0m\u001b[1;33m]\u001b[0m \u001b[1;31m# Filename of the patch of video\u001b[0m\u001b[1;33m\u001b[0m\u001b[1;33m\u001b[0m\u001b[0m\n\u001b[1;32m---> 11\u001b[1;33m         \u001b[0mnum_frames\u001b[0m\u001b[1;33m,\u001b[0m \u001b[0ma\u001b[0m\u001b[1;33m,\u001b[0m \u001b[0mb\u001b[0m \u001b[1;33m=\u001b[0m \u001b[0mvideo_data\u001b[0m\u001b[1;33m(\u001b[0m\u001b[0mos\u001b[0m\u001b[1;33m.\u001b[0m\u001b[0mgetcwd\u001b[0m\u001b[1;33m(\u001b[0m\u001b[1;33m)\u001b[0m \u001b[1;33m+\u001b[0m \u001b[1;34m'\\\\'\u001b[0m \u001b[1;33m+\u001b[0m \u001b[0mfilename\u001b[0m\u001b[1;33m)\u001b[0m\u001b[1;33m\u001b[0m\u001b[1;33m\u001b[0m\u001b[0m\n\u001b[0m\u001b[0;32m     12\u001b[0m         \u001b[0msubprocess\u001b[0m\u001b[1;33m.\u001b[0m\u001b[0mrun\u001b[0m\u001b[1;33m(\u001b[0m\u001b[1;33m[\u001b[0m\u001b[1;34m'ffmpeg'\u001b[0m\u001b[1;33m,\u001b[0m \u001b[1;34m'-i'\u001b[0m\u001b[1;33m,\u001b[0m \u001b[0mfilename\u001b[0m\u001b[1;33m,\u001b[0m \u001b[1;34m'-vf'\u001b[0m\u001b[1;33m,\u001b[0m \u001b[1;34m'select=\\'between(n\\\\,0\\\\,'\u001b[0m \u001b[1;33m+\u001b[0m \u001b[0mnum_frames\u001b[0m \u001b[1;33m+\u001b[0m \u001b[1;34m')\\''\u001b[0m\u001b[1;33m,\u001b[0m \u001b[1;34m'-vsync'\u001b[0m\u001b[1;33m,\u001b[0m \u001b[1;34m'0'\u001b[0m\u001b[1;33m,\u001b[0m \u001b[1;34m'-start_number'\u001b[0m\u001b[1;33m,\u001b[0m \u001b[1;34m'0'\u001b[0m\u001b[1;33m,\u001b[0m \u001b[1;34m'frame%d.png'\u001b[0m\u001b[1;33m]\u001b[0m\u001b[1;33m,\u001b[0m \u001b[0mcheck\u001b[0m\u001b[1;33m=\u001b[0m\u001b[1;32mTrue\u001b[0m\u001b[1;33m)\u001b[0m\u001b[1;33m\u001b[0m\u001b[1;33m\u001b[0m\u001b[0m\n\u001b[0;32m     13\u001b[0m         \u001b[0mos\u001b[0m\u001b[1;33m.\u001b[0m\u001b[0mchdir\u001b[0m\u001b[1;33m(\u001b[0m\u001b[1;34m'..'\u001b[0m\u001b[1;33m)\u001b[0m \u001b[1;31m# Back up to the directory with the list of patch folders\u001b[0m\u001b[1;33m\u001b[0m\u001b[1;33m\u001b[0m\u001b[0m\n",
      "\u001b[1;32m<ipython-input-30-d1ceb2a66879>\u001b[0m in \u001b[0;36mvideo_data\u001b[1;34m(filename)\u001b[0m\n\u001b[0;32m      2\u001b[0m \u001b[1;32mdef\u001b[0m \u001b[0mvideo_data\u001b[0m\u001b[1;33m(\u001b[0m\u001b[0mfilename\u001b[0m\u001b[1;33m)\u001b[0m\u001b[1;33m:\u001b[0m\u001b[1;33m\u001b[0m\u001b[1;33m\u001b[0m\u001b[0m\n\u001b[0;32m      3\u001b[0m     \u001b[1;31m# Run FFmpeg to get information on the given video\u001b[0m\u001b[1;33m\u001b[0m\u001b[1;33m\u001b[0m\u001b[1;33m\u001b[0m\u001b[0m\n\u001b[1;32m----> 4\u001b[1;33m     \u001b[0moutput\u001b[0m \u001b[1;33m=\u001b[0m \u001b[0msubprocess\u001b[0m\u001b[1;33m.\u001b[0m\u001b[0mrun\u001b[0m\u001b[1;33m(\u001b[0m\u001b[1;33m[\u001b[0m\u001b[1;34m'ffmpeg'\u001b[0m\u001b[1;33m,\u001b[0m \u001b[1;34m'-i'\u001b[0m\u001b[1;33m,\u001b[0m \u001b[0mfilename\u001b[0m\u001b[1;33m,\u001b[0m \u001b[1;34m'-map'\u001b[0m\u001b[1;33m,\u001b[0m \u001b[1;34m'0:v:0'\u001b[0m\u001b[1;33m,\u001b[0m \u001b[1;34m'-c'\u001b[0m\u001b[1;33m,\u001b[0m \u001b[1;34m'copy'\u001b[0m\u001b[1;33m,\u001b[0m \u001b[1;34m'-f'\u001b[0m\u001b[1;33m,\u001b[0m \u001b[1;34m'null'\u001b[0m\u001b[1;33m,\u001b[0m \u001b[1;34m'-'\u001b[0m\u001b[1;33m]\u001b[0m\u001b[1;33m,\u001b[0m \u001b[0mcapture_output\u001b[0m \u001b[1;33m=\u001b[0m \u001b[1;32mTrue\u001b[0m\u001b[1;33m,\u001b[0m \u001b[0mtext\u001b[0m \u001b[1;33m=\u001b[0m \u001b[1;32mTrue\u001b[0m\u001b[1;33m,\u001b[0m \u001b[0mcheck\u001b[0m\u001b[1;33m=\u001b[0m\u001b[1;32mTrue\u001b[0m\u001b[1;33m)\u001b[0m\u001b[1;33m\u001b[0m\u001b[1;33m\u001b[0m\u001b[0m\n\u001b[0m\u001b[0;32m      5\u001b[0m     \u001b[1;31m# FFmpeg return a CompletedProcess data type. In order to process the information, change it to a string data type.\u001b[0m\u001b[1;33m\u001b[0m\u001b[1;33m\u001b[0m\u001b[1;33m\u001b[0m\u001b[0m\n\u001b[0;32m      6\u001b[0m     \u001b[0moutput\u001b[0m \u001b[1;33m=\u001b[0m \u001b[0mstr\u001b[0m\u001b[1;33m(\u001b[0m\u001b[0moutput\u001b[0m\u001b[1;33m)\u001b[0m\u001b[1;33m\u001b[0m\u001b[1;33m\u001b[0m\u001b[0m\n",
      "\u001b[1;32m~\\AppData\\Local\\Programs\\Python\\Python38\\lib\\subprocess.py\u001b[0m in \u001b[0;36mrun\u001b[1;34m(input, capture_output, timeout, check, *popenargs, **kwargs)\u001b[0m\n\u001b[0;32m    510\u001b[0m         \u001b[0mretcode\u001b[0m \u001b[1;33m=\u001b[0m \u001b[0mprocess\u001b[0m\u001b[1;33m.\u001b[0m\u001b[0mpoll\u001b[0m\u001b[1;33m(\u001b[0m\u001b[1;33m)\u001b[0m\u001b[1;33m\u001b[0m\u001b[1;33m\u001b[0m\u001b[0m\n\u001b[0;32m    511\u001b[0m         \u001b[1;32mif\u001b[0m \u001b[0mcheck\u001b[0m \u001b[1;32mand\u001b[0m \u001b[0mretcode\u001b[0m\u001b[1;33m:\u001b[0m\u001b[1;33m\u001b[0m\u001b[1;33m\u001b[0m\u001b[0m\n\u001b[1;32m--> 512\u001b[1;33m             raise CalledProcessError(retcode, process.args,\n\u001b[0m\u001b[0;32m    513\u001b[0m                                      output=stdout, stderr=stderr)\n\u001b[0;32m    514\u001b[0m     \u001b[1;32mreturn\u001b[0m \u001b[0mCompletedProcess\u001b[0m\u001b[1;33m(\u001b[0m\u001b[0mprocess\u001b[0m\u001b[1;33m.\u001b[0m\u001b[0margs\u001b[0m\u001b[1;33m,\u001b[0m \u001b[0mretcode\u001b[0m\u001b[1;33m,\u001b[0m \u001b[0mstdout\u001b[0m\u001b[1;33m,\u001b[0m \u001b[0mstderr\u001b[0m\u001b[1;33m)\u001b[0m\u001b[1;33m\u001b[0m\u001b[1;33m\u001b[0m\u001b[0m\n",
      "\u001b[1;31mCalledProcessError\u001b[0m: Command '['ffmpeg', '-i', 'C:\\\\Users\\\\John\\\\PythonVenvs\\\\VideoSuperResolution\\\\Scripts\\\\Raw Data\\\\Raw, Half-Size, and PNGs\\\\Family Building Sand Castle Together Stock Footage\\\\Family Building Sand Castle Together Stock Footage_half_size_cropped00\\\\Family Building Sand Castle Together Stock Footage_half_size_cropped00.mp4', '-map', '0:v:0', '-c', 'copy', '-f', 'null', '-']' returned non-zero exit status 1."
     ]
    }
   ],
   "source": [
    "os.chdir(r'C:\\Users\\John\\PythonVenvs\\VideoSuperResolution\\Scripts\\Raw Data\\Raw, Half-Size, and PNGs')\n",
    "print(os.getcwd())\n",
    "\n",
    "# For each file in the directory, split the full-length videos into individual .png images\n",
    "# os.getcwd() returns a string of the current directory (the one set up above). os.listdir() then list every file in that directory.\n",
    "for folder in [x for x in os.listdir(os.getcwd()) if not x.endswith('.bat')][4:]:\n",
    "    os.chdir(folder)\n",
    "    for patch_folder in (x for x in os.listdir(os.getcwd()) if not x.endswith('.mp4')):\n",
    "        os.chdir(patch_folder)\n",
    "        filename = os.listdir(os.getcwd())[0] # Filename of the patch of video\n",
    "        num_frames, a, b = video_data(os.getcwd() + '\\\\' + filename)\n",
    "        subprocess.run(['ffmpeg', '-i', filename, '-vf', 'select=\\'between(n\\\\,0\\\\,' + num_frames + ')\\'', '-vsync', '0', '-start_number', '0', 'frame%d.png'], check=True)\n",
    "        os.chdir('..') # Back up to the directory with the list of patch folders\n",
    "    \n",
    "    os.chdir('..') # Back up to the main video directory\n",
    "    "
   ]
  },
  {
   "cell_type": "code",
   "execution_count": null,
   "metadata": {},
   "outputs": [],
   "source": [
    "# Halve the raw video sizes to get the HR frames \n",
    "os.chdir(r'Raw Data\\Just Raw Videos')\n",
    "\n",
    "for folder in os.listdir(os.getcwd()):\n",
    "    os.chdir(folder)\n",
    "    filename = os.listdir(os.getcwd())[0] # Filename of the only file in the folder. Each folder should have exactly one video file\n",
    "    # ffmpeg = subprocess.run(['ffmpeg', '-i', \"\\\"\" + filename + \"\\\"\", '-vf', '\"scale=iw/2:ih/2\"', \"\\\"\" + filename[:-4] + '_half_size.mp4' + \"\\\"\"])\n",
    "    ffmpeg = subprocess.run(['ffmpeg', '-y', '-i', filename, '-vf', 'scale=iw/2:ih/2', filename[:-4] + '_half_size.mp4'])\n",
    "    os.chdir('..') # Back up to the directory with the list of video folders\n"
   ]
  },
  {
   "cell_type": "code",
   "execution_count": 8,
   "metadata": {},
   "outputs": [
    {
     "ename": "NameError",
     "evalue": "name 'vid' is not defined",
     "output_type": "error",
     "traceback": [
      "\u001b[1;31m---------------------------------------------------------------------------\u001b[0m",
      "\u001b[1;31mNameError\u001b[0m                                 Traceback (most recent call last)",
      "\u001b[1;32m<ipython-input-8-797634727cab>\u001b[0m in \u001b[0;36m<module>\u001b[1;34m\u001b[0m\n\u001b[1;32m----> 1\u001b[1;33m \u001b[0mreload\u001b[0m\u001b[1;33m(\u001b[0m\u001b[0mvid\u001b[0m\u001b[1;33m)\u001b[0m\u001b[1;33m\u001b[0m\u001b[1;33m\u001b[0m\u001b[0m\n\u001b[0m",
      "\u001b[1;31mNameError\u001b[0m: name 'vid' is not defined"
     ]
    }
   ],
   "source": [
    "reload(vid)"
   ]
  }
 ],
 "metadata": {
  "kernelspec": {
   "display_name": "Python 3",
   "language": "python",
   "name": "python3"
  },
  "language_info": {
   "codemirror_mode": {
    "name": "ipython",
    "version": 3
   },
   "file_extension": ".py",
   "mimetype": "text/x-python",
   "name": "python",
   "nbconvert_exporter": "python",
   "pygments_lexer": "ipython3",
   "version": "3.8.6rc1"
  }
 },
 "nbformat": 4,
 "nbformat_minor": 4
}
