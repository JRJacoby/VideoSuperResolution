{
 "cells": [
  {
   "cell_type": "code",
   "execution_count": 1,
   "metadata": {},
   "outputs": [],
   "source": [
    "import video_data_classes as vid\n",
    "import matplotlib.pyplot as plt\n",
    "import numpy as np\n",
    "import torchvision.transforms as transforms\n",
    "import torch.nn as nn\n",
    "import torch.nn.functional as F\n",
    "import torch.optim as optim\n",
    "import torch\n",
    "from skimage import io\n",
    "from importlib import reload\n",
    "from IPython.core.debugger import set_trace\n",
    "from torch.utils.data import Dataset, DataLoader"
   ]
  },
  {
   "cell_type": "code",
   "execution_count": 71,
   "metadata": {},
   "outputs": [],
   "source": [
    "class SuperResNetwork(nn.Module):\n",
    "    def __init__(self):\n",
    "        super(SuperResNetwork, self).__init__()\n",
    "\n",
    "        self.input_layer = nn.Conv2d(6, 8, (3, 3))\n",
    "        self.output_layer = nn.ConvTranspose2d(8, 3, (3, 3))\n",
    "        self.activation = nn.ReLU()\n",
    "    \n",
    "    def forward(self, x):\n",
    "        first_input = x[0, :, :, :, :]\n",
    "        sequence_length = x.shape[0]\n",
    "        y = self.input_layer(torch.cat([first_input, torch.zeros_like(first_input)], dim=1)) # concatenate the first input with zeros in the channel dimension\n",
    "        y = self.activation(y)\n",
    "        y = self.output_layer(y)\n",
    "        output = torch.unsqueeze(y, 0)\n",
    "        \n",
    "        for i in range(1, sequence_length):\n",
    "            y = self.input_layer(torch.cat([x[i, :, :, :, :], output[i - 1, :, :, :, :]], dim=1))\n",
    "            y = self.activation(y)\n",
    "            y = self.output_layer(y)\n",
    "            output = torch.cat([output, torch.unsqueeze(y, 0)], dim=0)\n",
    "            \n",
    "        return output"
   ]
  },
  {
   "cell_type": "code",
   "execution_count": 81,
   "metadata": {},
   "outputs": [],
   "source": [
    "network = SuperResNetwork()\n",
    "network.to('cuda:0')\n",
    "criterion = nn.MSELoss()\n",
    "optimizer = optim.Rprop(network.parameters())\n",
    "\n",
    "video_directory = r'C:\\Users\\John\\PythonVenvs\\VideoSuperResolution\\Scripts\\Raw Data\\Raw, Half-Size, and PNGs'\n",
    "preprocess = transforms.Compose([vid.LightenImageTransformer(),\n",
    "                                vid.MinMaxTransformer()])\n",
    "dataset = vid.VideoDataset(video_directory, 10, transform=preprocess)\n",
    "dataloader = DataLoader(dataset, batch_size=4, shuffle=True, num_workers=0)"
   ]
  },
  {
   "cell_type": "code",
   "execution_count": null,
   "metadata": {},
   "outputs": [],
   "source": [
    "for i, data in enumerate(dataloader):\n",
    "    train_x = torch.stack(data['X']).permute(0, 1, 4, 3, 2).float().to('cuda:0') #seq, batch, c, h, w\n",
    "    train_y = torch.stack(data['Y']).permute(0, 1, 4, 3, 2).float().to('cuda:0')\n",
    "    \n",
    "    optimizer.zero_grad()\n",
    "    \n",
    "    outputs = network(train_x)\n",
    "    loss = criterion(outputs, train_y)\n",
    "    loss.backward()\n",
    "    optimizer.step()"
   ]
  },
  {
   "cell_type": "code",
   "execution_count": null,
   "metadata": {},
   "outputs": [],
   "source": [
    "data = vid.VideoDataset(r'C:\\Users\\John\\PythonVenvs\\VideoSuperResolution\\Scripts\\Raw Data\\Raw, Half-Size, and PNGs', 10)"
   ]
  },
  {
   "cell_type": "code",
   "execution_count": 30,
   "metadata": {},
   "outputs": [
    {
     "data": {
      "text/plain": [
       "<module 'video_data_classes' from 'C:\\\\Users\\\\John\\\\PythonVenvs\\\\VideoSuperResolution\\\\Scripts\\\\VideoSuperResolution\\\\video_data_classes.py'>"
      ]
     },
     "execution_count": 30,
     "metadata": {},
     "output_type": "execute_result"
    }
   ],
   "source": [
    "reload(vid)"
   ]
  },
  {
   "cell_type": "code",
   "execution_count": 78,
   "metadata": {},
   "outputs": [
    {
     "data": {
      "text/plain": [
       "True"
      ]
     },
     "execution_count": 78,
     "metadata": {},
     "output_type": "execute_result"
    }
   ],
   "source": [
    "torch.cuda.is_available()"
   ]
  }
 ],
 "metadata": {
  "kernelspec": {
   "display_name": "Python 3",
   "language": "python",
   "name": "python3"
  },
  "language_info": {
   "codemirror_mode": {
    "name": "ipython",
    "version": 3
   },
   "file_extension": ".py",
   "mimetype": "text/x-python",
   "name": "python",
   "nbconvert_exporter": "python",
   "pygments_lexer": "ipython3",
   "version": "3.8.6rc1"
  }
 },
 "nbformat": 4,
 "nbformat_minor": 4
}
